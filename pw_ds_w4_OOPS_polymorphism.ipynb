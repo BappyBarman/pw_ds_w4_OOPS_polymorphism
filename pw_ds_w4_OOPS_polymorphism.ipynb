{
 "cells": [
  {
   "cell_type": "markdown",
   "id": "e7104fad",
   "metadata": {},
   "source": [
    "Oops"
   ]
  },
  {
   "cell_type": "code",
   "execution_count": 2,
   "id": "f31f37ec",
   "metadata": {},
   "outputs": [
    {
     "name": "stdout",
     "output_type": "stream",
     "text": [
      "<class 'int'>\n"
     ]
    }
   ],
   "source": [
    "a = 1\n",
    "print(type(a))"
   ]
  },
  {
   "cell_type": "code",
   "execution_count": 3,
   "id": "62bb8077",
   "metadata": {},
   "outputs": [
    {
     "name": "stdout",
     "output_type": "stream",
     "text": [
      "<class 'str'>\n"
     ]
    }
   ],
   "source": [
    "print(type(\"pwskills\"))"
   ]
  },
  {
   "cell_type": "code",
   "execution_count": 5,
   "id": "377c1674",
   "metadata": {},
   "outputs": [],
   "source": [
    "class test:\n",
    "    pass"
   ]
  },
  {
   "cell_type": "code",
   "execution_count": 6,
   "id": "d4882455",
   "metadata": {},
   "outputs": [],
   "source": [
    "a = test()"
   ]
  },
  {
   "cell_type": "code",
   "execution_count": 9,
   "id": "f785b958",
   "metadata": {},
   "outputs": [
    {
     "name": "stdout",
     "output_type": "stream",
     "text": [
      "<class '__main__.test'>\n"
     ]
    }
   ],
   "source": [
    "print(type(a))"
   ]
  },
  {
   "cell_type": "code",
   "execution_count": 16,
   "id": "c1ceced9",
   "metadata": {},
   "outputs": [],
   "source": [
    "class pwskills:\n",
    "    \n",
    "    def welcome_msg(self):\n",
    "        print(\"welcome to pwskills\")"
   ]
  },
  {
   "cell_type": "code",
   "execution_count": 17,
   "id": "8eeea4dc",
   "metadata": {},
   "outputs": [],
   "source": [
    "rohan = pwskills()"
   ]
  },
  {
   "cell_type": "code",
   "execution_count": 18,
   "id": "04b7f7dc",
   "metadata": {},
   "outputs": [
    {
     "name": "stdout",
     "output_type": "stream",
     "text": [
      "welcome to pwskills\n"
     ]
    }
   ],
   "source": [
    "rohan.welcome_msg()"
   ]
  },
  {
   "cell_type": "code",
   "execution_count": 19,
   "id": "71c152ed",
   "metadata": {},
   "outputs": [],
   "source": [
    "sohan = pwskills()"
   ]
  },
  {
   "cell_type": "code",
   "execution_count": 21,
   "id": "16de8969",
   "metadata": {},
   "outputs": [
    {
     "name": "stdout",
     "output_type": "stream",
     "text": [
      "welcome to pwskills\n"
     ]
    }
   ],
   "source": [
    "sohan.welcome_msg()"
   ]
  },
  {
   "cell_type": "code",
   "execution_count": 22,
   "id": "599d9110",
   "metadata": {},
   "outputs": [],
   "source": [
    "a = 1"
   ]
  },
  {
   "cell_type": "code",
   "execution_count": 23,
   "id": "4ca4f3c9",
   "metadata": {},
   "outputs": [],
   "source": [
    "b = 2"
   ]
  },
  {
   "cell_type": "code",
   "execution_count": 24,
   "id": "2de813b6",
   "metadata": {},
   "outputs": [
    {
     "data": {
      "text/plain": [
       "1"
      ]
     },
     "execution_count": 24,
     "metadata": {},
     "output_type": "execute_result"
    }
   ],
   "source": [
    "a"
   ]
  },
  {
   "cell_type": "code",
   "execution_count": 25,
   "id": "96560ddc",
   "metadata": {},
   "outputs": [
    {
     "data": {
      "text/plain": [
       "2"
      ]
     },
     "execution_count": 25,
     "metadata": {},
     "output_type": "execute_result"
    }
   ],
   "source": [
    "b"
   ]
  },
  {
   "cell_type": "code",
   "execution_count": 26,
   "id": "680c6861",
   "metadata": {},
   "outputs": [],
   "source": [
    "class pwskill:\n",
    "    \n",
    "    def __init__(self , phone_nmber , email_id, student_id):\n",
    "        self.phone_nmber = phone_nmber\n",
    "        self.email_id = email_id\n",
    "        self.student_id = student_id\n",
    "        \n",
    "    def return_student_details(self):\n",
    "        return self.phone_nmber, self.email_id, self.student_id"
   ]
  },
  {
   "cell_type": "code",
   "execution_count": 33,
   "id": "4ccb3720",
   "metadata": {},
   "outputs": [],
   "source": [
    "sohan = pwskill(8478004363, \"sohan@gamil.com\" , 102)"
   ]
  },
  {
   "cell_type": "code",
   "execution_count": null,
   "id": "c753d772",
   "metadata": {},
   "outputs": [],
   "source": []
  },
  {
   "cell_type": "code",
   "execution_count": null,
   "id": "3c098860",
   "metadata": {},
   "outputs": [],
   "source": []
  },
  {
   "cell_type": "code",
   "execution_count": null,
   "id": "96b4cd6c",
   "metadata": {},
   "outputs": [],
   "source": []
  },
  {
   "cell_type": "code",
   "execution_count": 27,
   "id": "9b644d66",
   "metadata": {},
   "outputs": [],
   "source": [
    "rohan = pwskill(6290459438, \"rohan@gamil.com\" , 101)"
   ]
  },
  {
   "cell_type": "code",
   "execution_count": 28,
   "id": "27f456b6",
   "metadata": {},
   "outputs": [
    {
     "data": {
      "text/plain": [
       "6290459438"
      ]
     },
     "execution_count": 28,
     "metadata": {},
     "output_type": "execute_result"
    }
   ],
   "source": [
    "rohan.phone_nmber"
   ]
  },
  {
   "cell_type": "code",
   "execution_count": 29,
   "id": "c65fb0db",
   "metadata": {},
   "outputs": [
    {
     "data": {
      "text/plain": [
       "'rohan@gamil.com'"
      ]
     },
     "execution_count": 29,
     "metadata": {},
     "output_type": "execute_result"
    }
   ],
   "source": [
    "rohan.email_id"
   ]
  },
  {
   "cell_type": "code",
   "execution_count": 30,
   "id": "2f0b25ed",
   "metadata": {},
   "outputs": [
    {
     "data": {
      "text/plain": [
       "101"
      ]
     },
     "execution_count": 30,
     "metadata": {},
     "output_type": "execute_result"
    }
   ],
   "source": [
    "rohan.student_id"
   ]
  },
  {
   "cell_type": "code",
   "execution_count": 32,
   "id": "861785be",
   "metadata": {},
   "outputs": [
    {
     "data": {
      "text/plain": [
       "(6290459438, 'rohan@gamil.com', 101)"
      ]
     },
     "execution_count": 32,
     "metadata": {},
     "output_type": "execute_result"
    }
   ],
   "source": [
    "rohan.return_student_details()"
   ]
  },
  {
   "cell_type": "code",
   "execution_count": 34,
   "id": "47be19b3",
   "metadata": {},
   "outputs": [
    {
     "data": {
      "text/plain": [
       "8478004363"
      ]
     },
     "execution_count": 34,
     "metadata": {},
     "output_type": "execute_result"
    }
   ],
   "source": [
    "sohan.phone_nmber"
   ]
  },
  {
   "cell_type": "code",
   "execution_count": 36,
   "id": "8c73f272",
   "metadata": {},
   "outputs": [
    {
     "data": {
      "text/plain": [
       "(8478004363, 'sohan@gamil.com', 102)"
      ]
     },
     "execution_count": 36,
     "metadata": {},
     "output_type": "execute_result"
    }
   ],
   "source": [
    "sohan.return_student_details()"
   ]
  },
  {
   "cell_type": "code",
   "execution_count": 37,
   "id": "86d1dc1c",
   "metadata": {},
   "outputs": [],
   "source": [
    "class pwskill:\n",
    "    \n",
    "    def __init__(bappy , phone_nmber , email_id, student_id):\n",
    "        bappy.phone_nmber = phone_nmber\n",
    "        bappy.email_id = email_id\n",
    "        bappy.student_id = student_id\n",
    "        \n",
    "    def return_student_details(bappy):\n",
    "        return bappy.phone_nmber, bappy.email_id, bappy.student_id"
   ]
  },
  {
   "cell_type": "code",
   "execution_count": 38,
   "id": "fd9a9fbc",
   "metadata": {},
   "outputs": [],
   "source": [
    "mohan = pwskill(88888888, \"mohan@gamil.com\" , 103)"
   ]
  },
  {
   "cell_type": "code",
   "execution_count": 40,
   "id": "1a0230ff",
   "metadata": {},
   "outputs": [
    {
     "data": {
      "text/plain": [
       "(88888888, 'mohan@gamil.com', 103)"
      ]
     },
     "execution_count": 40,
     "metadata": {},
     "output_type": "execute_result"
    }
   ],
   "source": [
    "mohan.return_student_details()"
   ]
  },
  {
   "cell_type": "markdown",
   "id": "3f2fc208",
   "metadata": {},
   "source": [
    "**Polymorphism"
   ]
  },
  {
   "cell_type": "code",
   "execution_count": 42,
   "id": "b2515df8",
   "metadata": {},
   "outputs": [],
   "source": [
    "def test(a,b) :\n",
    "    return a+b"
   ]
  },
  {
   "cell_type": "code",
   "execution_count": 43,
   "id": "af2c89ad",
   "metadata": {},
   "outputs": [
    {
     "data": {
      "text/plain": [
       "9"
      ]
     },
     "execution_count": 43,
     "metadata": {},
     "output_type": "execute_result"
    }
   ],
   "source": [
    "test(4,5)"
   ]
  },
  {
   "cell_type": "code",
   "execution_count": 44,
   "id": "24c8e2b2",
   "metadata": {},
   "outputs": [
    {
     "data": {
      "text/plain": [
       "'bappybarman'"
      ]
     },
     "execution_count": 44,
     "metadata": {},
     "output_type": "execute_result"
    }
   ],
   "source": [
    "test(\"bappy\",\"barman\")"
   ]
  },
  {
   "cell_type": "code",
   "execution_count": 45,
   "id": "c00543bc",
   "metadata": {},
   "outputs": [
    {
     "data": {
      "text/plain": [
       "[2, 3, 4, 5, 5, 4, 5, 6, 7]"
      ]
     },
     "execution_count": 45,
     "metadata": {},
     "output_type": "execute_result"
    }
   ],
   "source": [
    "test([2,3,4,5,5],[4,5,6,7])"
   ]
  },
  {
   "cell_type": "code",
   "execution_count": 46,
   "id": "a0f0443b",
   "metadata": {},
   "outputs": [],
   "source": [
    "class data_science:\n",
    "    def syllabus(self) :\n",
    "        print(\"this is my method for data science syllabus\")"
   ]
  },
  {
   "cell_type": "code",
   "execution_count": 47,
   "id": "3b21468d",
   "metadata": {},
   "outputs": [],
   "source": [
    "class web_dev :\n",
    "    def syllabus(self) :\n",
    "        print(\"this is my method for web dev\")"
   ]
  },
  {
   "cell_type": "code",
   "execution_count": 48,
   "id": "e687807a",
   "metadata": {},
   "outputs": [],
   "source": [
    "def class_parcer(class_obj) :\n",
    "    for i in class_obj :\n",
    "        i.syllabus()"
   ]
  },
  {
   "cell_type": "code",
   "execution_count": 49,
   "id": "ff2ced04",
   "metadata": {},
   "outputs": [],
   "source": [
    "obj_data_science=data_science()"
   ]
  },
  {
   "cell_type": "code",
   "execution_count": 50,
   "id": "bc1641bd",
   "metadata": {},
   "outputs": [],
   "source": [
    "obj_web_dev=web_dev()"
   ]
  },
  {
   "cell_type": "code",
   "execution_count": 51,
   "id": "10a60036",
   "metadata": {},
   "outputs": [],
   "source": [
    "class_ojb=[obj_data_science,obj_web_dev]"
   ]
  },
  {
   "cell_type": "code",
   "execution_count": 53,
   "id": "1c3b20c4",
   "metadata": {},
   "outputs": [
    {
     "name": "stdout",
     "output_type": "stream",
     "text": [
      "this is my method for data science syllabus\n",
      "this is my method for web dev\n"
     ]
    }
   ],
   "source": [
    "class_parcer(class_ojb)"
   ]
  },
  {
   "cell_type": "code",
   "execution_count": null,
   "id": "3b61fb37",
   "metadata": {},
   "outputs": [],
   "source": []
  }
 ],
 "metadata": {
  "kernelspec": {
   "display_name": "Python 3 (ipykernel)",
   "language": "python",
   "name": "python3"
  },
  "language_info": {
   "codemirror_mode": {
    "name": "ipython",
    "version": 3
   },
   "file_extension": ".py",
   "mimetype": "text/x-python",
   "name": "python",
   "nbconvert_exporter": "python",
   "pygments_lexer": "ipython3",
   "version": "3.11.4"
  }
 },
 "nbformat": 4,
 "nbformat_minor": 5
}
